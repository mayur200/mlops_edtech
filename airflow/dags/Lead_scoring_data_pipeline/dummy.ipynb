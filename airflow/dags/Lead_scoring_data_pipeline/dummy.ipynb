{
 "cells": [
  {
   "cell_type": "code",
   "execution_count": 1,
   "id": "d386ed30-f852-4b71-a0f3-8c5b83a00097",
   "metadata": {},
   "outputs": [],
   "source": [
    "import pandas as pd\n",
    "import os\n",
    "import sqlite3\n",
    "from sqlite3 import Error\n",
    "from constants import DB_PATH,DB_FILE_NAME,DATA_DIRECTORY,INTERACTION_MAPPING,INDEX_COLUMNS\n",
    "from mapping.city_tier_mapping import *\n",
    "from mapping.significant_categorical_level import *\n",
    "from schema import *\n",
    "import collections"
   ]
  },
  {
   "cell_type": "code",
   "execution_count": 2,
   "id": "e042648e-07ef-44c3-8111-7d7d6dba7db3",
   "metadata": {},
   "outputs": [
    {
     "data": {
      "text/plain": [
       "('/home/airflow/dags/Lead_scoring_data_pipeline/mapping/',\n",
       " '/home/airflow/dags/Lead_scoring_data_pipeline/data/',\n",
       " ['created_date',\n",
       "  'city_tier',\n",
       "  'first_platform_c',\n",
       "  'first_utm_medium_c',\n",
       "  'first_utm_source_c',\n",
       "  'total_leads_droppped',\n",
       "  'referred_lead'])"
      ]
     },
     "execution_count": 2,
     "metadata": {},
     "output_type": "execute_result"
    }
   ],
   "source": [
    "INTERACTION_MAPPING,DATA_DIRECTORY,INDEX_COLUMNS"
   ]
  },
  {
   "cell_type": "code",
   "execution_count": 22,
   "id": "ac7347fb-953d-4b9f-a9ea-72e273b36286",
   "metadata": {},
   "outputs": [
    {
     "data": {
      "text/plain": [
       "['Level0', 'Level3', 'Level7', 'Level1', 'Level2', 'Level8']"
      ]
     },
     "execution_count": 22,
     "metadata": {},
     "output_type": "execute_result"
    }
   ],
   "source": [
    "list_platform"
   ]
  },
  {
   "cell_type": "code",
   "execution_count": 3,
   "id": "15835276-9a12-451b-8ce4-3e692cdaecec",
   "metadata": {},
   "outputs": [],
   "source": [
    "def load_data(file_path_list):\n",
    "    data = []\n",
    "    for eachfile in file_path_list:\n",
    "        data.append(pd.read_csv(eachfile, index_col=0))\n",
    "    return data"
   ]
  },
  {
   "cell_type": "code",
   "execution_count": 4,
   "id": "f2a30d38-f76f-49d7-aac7-a68b763c9d8a",
   "metadata": {},
   "outputs": [],
   "source": [
    "def build_dbs(db_path, db_file_name):\n",
    "    '''\n",
    "    This function checks if the db file with specified name is present \n",
    "    in the /Assignment/01_data_pipeline/scripts folder. If it is not present it creates \n",
    "    the db file with the given name at the given path. \n",
    "\n",
    "\n",
    "    INPUTS\n",
    "        db_file_name : Name of the database file 'utils_output.db'\n",
    "        db_path : path where the db file should be '   \n",
    "\n",
    "\n",
    "    OUTPUT\n",
    "    The function returns the following under the conditions:\n",
    "        1. If the file exsists at the specified path\n",
    "                prints 'DB Already Exsists' and returns 'DB Exsists'\n",
    "\n",
    "        2. If the db file is not present at the specified loction\n",
    "                prints 'Creating Database' and creates the sqlite db \n",
    "                file at the specified path with the specified name and \n",
    "                once the db file is created prints 'New DB Created' and \n",
    "                returns 'DB created'\n",
    "\n",
    "\n",
    "    SAMPLE USAGE\n",
    "        build_dbs()\n",
    "    '''\n",
    "    \n",
    "    if os.path.isfile(db_path+db_file_name):\n",
    "        print( \"DB Already Exist->>\",db_path,db_file_name)\n",
    "        print(os.getcwd())\n",
    "        return \"DB Exist\"\n",
    "    else:\n",
    "        print (\"Creating Database\")\n",
    "        \"\"\" create a database connection to a SQLite database \"\"\"\n",
    "        conn = None\n",
    "        try:\n",
    "            \n",
    "            conn = sqlite3.connect(db_path+db_file_name)\n",
    "            print(\"New DB Created\")\n",
    "        except Error as e:\n",
    "            print(e)\n",
    "            return \"Error\"\n",
    "        finally:\n",
    "            if conn:\n",
    "                conn.close()\n",
    "                return \"DB Created\""
   ]
  },
  {
   "cell_type": "code",
   "execution_count": 5,
   "id": "1dae843f-83ae-4122-9cb5-b9029ca41890",
   "metadata": {},
   "outputs": [
    {
     "name": "stdout",
     "output_type": "stream",
     "text": [
      "DB Already Exist->> /home/Assignment/01_data_pipeline/scripts utils_output.db\n",
      "/home/Assignment/01_data_pipeline/scripts\n"
     ]
    },
    {
     "data": {
      "text/plain": [
       "'DB Exist'"
      ]
     },
     "execution_count": 5,
     "metadata": {},
     "output_type": "execute_result"
    }
   ],
   "source": [
    "build_dbs(DB_PATH, DB_FILE_NAME)"
   ]
  },
  {
   "cell_type": "code",
   "execution_count": 6,
   "id": "ab254771-0d2f-4c33-9916-aeef1865c2e0",
   "metadata": {},
   "outputs": [],
   "source": [
    "def load_data_into_db(db_path, db_file_name,data_directory):\n",
    "    '''\n",
    "    Thie function loads the data present in datadirectiry into the db\n",
    "    which was created previously.\n",
    "    It also replaces any null values present in 'toal_leads_dropped' and\n",
    "    'referred_lead' with 0.\n",
    "\n",
    "\n",
    "    INPUTS\n",
    "        db_file_name : Name of the database file\n",
    "        db_path : path where the db file should be\n",
    "        data_directory : path of the directory where 'leadscoring.csv' \n",
    "                        file is present\n",
    "        \n",
    "\n",
    "    OUTPUT\n",
    "        Saves the processed dataframe in the db in a table named 'loaded_data'.\n",
    "        If the table with the same name already exsists then the function \n",
    "        replaces it.\n",
    "\n",
    "\n",
    "    SAMPLE USAGE\n",
    "        load_data_into_db()\n",
    "    '''\n",
    "    cnx = sqlite3.connect(db_path+db_file_name)\n",
    "    leadscoring = load_data( [f\"{data_directory}leadscoring.csv\",])[0]\n",
    "    leadscoring.reset_index(drop=True)\n",
    "    leadscoring.to_sql(name='loaded_data', con=cnx, if_exists='replace')\n",
    "    cnx.close()\n",
    "    return \"Writing to DataBase loaded_data Done or Data Already was in Table. Check Logs.\""
   ]
  },
  {
   "cell_type": "code",
   "execution_count": 7,
   "id": "5ec6b0ce-9d52-49ed-8b7a-b8c141f3b4b4",
   "metadata": {},
   "outputs": [
    {
     "data": {
      "text/plain": [
       "'Writing to DataBase loaded_data Done or Data Already was in Table. Check Logs.'"
      ]
     },
     "execution_count": 7,
     "metadata": {},
     "output_type": "execute_result"
    }
   ],
   "source": [
    "load_data_into_db(DB_PATH, DB_FILE_NAME,DATA_DIRECTORY)"
   ]
  },
  {
   "cell_type": "code",
   "execution_count": 8,
   "id": "2a8b9086-a207-43d3-a82d-22b80f3a1e92",
   "metadata": {},
   "outputs": [],
   "source": [
    "def map_city_tier(db_path, db_file_name,city_tier_mapping):\n",
    "    '''\n",
    "    This function maps all the cities to their respective tier as per the\n",
    "    mappings provided in /mappings/city_tier_mapping.py file. If a\n",
    "    particular city's tier isn't mapped in the city_tier_mapping.py then\n",
    "    the function maps that particular city to 3.0 which represents\n",
    "    tier-3.\n",
    "\n",
    "\n",
    "    INPUTS\n",
    "        db_file_name : Name of the database file\n",
    "        db_path : path where the db file should be\n",
    "        city_tier_mapping : a dictionary that maps the cities to their tier\n",
    "\n",
    "    \n",
    "    OUTPUT\n",
    "        Saves the processed dataframe in the db in a table named\n",
    "        'city_tier_mapped'. If the table with the same name already \n",
    "        exsists then the function replaces it.\n",
    "\n",
    "    \n",
    "    SAMPLE USAGE\n",
    "        map_city_tier()\n",
    "\n",
    "    '''\n",
    "    cnx = sqlite3.connect(db_path+db_file_name)\n",
    "    map_df = pd.read_sql('select * from loaded_data', cnx)\n",
    "    map_df[\"city_tier\"] = map_df[\"city_mapped\"].map(city_tier_mapping)\n",
    "    map_df[\"city_tier\"] = map_df[\"city_tier\"].fillna(3.0)\n",
    "    map_df.drop(columns=['city_mapped','index'],axis=1,inplace=True,errors='ignore')\n",
    "    map_df.to_sql(name='city_tier_mapped',con=cnx,if_exists='replace')\n",
    "    cnx.close()\n",
    "    return \"Writing to DataBase city_tier_mapped Done or Data Already was in Table. Check Logs.\""
   ]
  },
  {
   "cell_type": "code",
   "execution_count": 9,
   "id": "9226c1c2-272b-45a1-8427-52114f038f77",
   "metadata": {},
   "outputs": [
    {
     "data": {
      "text/plain": [
       "'Writing to DataBase city_tier_mapped Done or Data Already was in Table. Check Logs.'"
      ]
     },
     "execution_count": 9,
     "metadata": {},
     "output_type": "execute_result"
    }
   ],
   "source": [
    "map_city_tier(DB_PATH, DB_FILE_NAME,city_tier_mapping_dict)"
   ]
  },
  {
   "cell_type": "code",
   "execution_count": 10,
   "id": "f4848c36-c1f7-4b95-b204-e9846b8c3546",
   "metadata": {},
   "outputs": [],
   "source": [
    "def map_categorical_vars(db_path,db_file_name,list_platform,list_medium,list_source):\n",
    "    '''\n",
    "    This function maps all the unsugnificant variables present in 'first_platform_c'\n",
    "    'first_utm_medium_c' and 'first_utm_source_c'. The list of significant variables\n",
    "    should be stored in a python file in the 'significant_categorical_level.py' \n",
    "    so that it can be imported as a variable in utils file.\n",
    "    \n",
    "\n",
    "    INPUTS\n",
    "        db_file_name : Name of the database file\n",
    "        db_path : path where the db file should be\n",
    "        list_platform : list of all the significant platform.\n",
    "        list_medium : list of all the significat medium\n",
    "        list_source : list of all rhe significant source\n",
    "\n",
    "        **NOTE : list_platform, list_medium & list_source are all constants and\n",
    "                 must be stored in 'significant_categorical_level.py'\n",
    "                 file. The significant levels are calculated by taking top 90\n",
    "                 percentils of all the levels. For more information refer\n",
    "                 'data_cleaning.ipynb' notebook.\n",
    "  \n",
    "\n",
    "    OUTPUT\n",
    "        Saves the processed dataframe in the db in a table named\n",
    "        'categorical_variables_mapped'. If the table with the same name already \n",
    "        exsists then the function replaces it.\n",
    "\n",
    "    \n",
    "    SAMPLE USAGE\n",
    "        map_categorical_vars()\n",
    "    '''\n",
    "    cnx = sqlite3.connect(db_path+db_file_name)\n",
    "    cat_df = pd.read_sql('select * from city_tier_mapped', cnx)\n",
    "    \n",
    "    cat_df.drop(columns=['level_0','index'],axis=1,inplace=True,errors='ignore')\n",
    "\n",
    "    # all the levels below 90 percentage are assgined to a single level called others\n",
    "    new_df = cat_df[~cat_df['first_platform_c'].isin(list_platform)] \n",
    "    new_df['first_platform_c'] = \"others\"\n",
    "    old_df = cat_df[cat_df['first_platform_c'].isin(list_platform)] \n",
    "    cat_df = pd.concat([new_df, old_df])\n",
    "    \n",
    "    new_df = cat_df[~cat_df['first_utm_medium_c'].isin(list_platform)] \n",
    "    new_df['first_utm_medium_c'] = \"others\"\n",
    "    old_df = cat_df[cat_df['first_utm_medium_c'].isin(list_platform)] \n",
    "    cat_df = pd.concat([new_df, old_df])\n",
    "    \n",
    "    new_df = cat_df[~cat_df['first_utm_source_c'].isin(list_platform)] \n",
    "    new_df['first_utm_source_c'] = \"others\"\n",
    "    old_df = cat_df[cat_df['first_utm_source_c'].isin(list_platform)] \n",
    "    cat_df = pd.concat([new_df, old_df])\n",
    "\n",
    "    cat_df.to_sql(name='categorical_variables_mapped',con=cnx,if_exists='replace')\n",
    "    cnx.close()\n",
    "    return \"Writing to DataBase categorical_variables_mapped Done Check Logs.\""
   ]
  },
  {
   "cell_type": "code",
   "execution_count": 11,
   "id": "923adf32-b175-45d6-b133-bf1a0c0f5ae4",
   "metadata": {},
   "outputs": [
    {
     "name": "stderr",
     "output_type": "stream",
     "text": [
      "/tmp/ipykernel_762/2173477963.py:39: SettingWithCopyWarning: \n",
      "A value is trying to be set on a copy of a slice from a DataFrame.\n",
      "Try using .loc[row_indexer,col_indexer] = value instead\n",
      "\n",
      "See the caveats in the documentation: https://pandas.pydata.org/pandas-docs/stable/user_guide/indexing.html#returning-a-view-versus-a-copy\n",
      "  new_df['first_platform_c'] = \"others\"\n",
      "/tmp/ipykernel_762/2173477963.py:44: SettingWithCopyWarning: \n",
      "A value is trying to be set on a copy of a slice from a DataFrame.\n",
      "Try using .loc[row_indexer,col_indexer] = value instead\n",
      "\n",
      "See the caveats in the documentation: https://pandas.pydata.org/pandas-docs/stable/user_guide/indexing.html#returning-a-view-versus-a-copy\n",
      "  new_df['first_utm_medium_c'] = \"others\"\n",
      "/tmp/ipykernel_762/2173477963.py:49: SettingWithCopyWarning: \n",
      "A value is trying to be set on a copy of a slice from a DataFrame.\n",
      "Try using .loc[row_indexer,col_indexer] = value instead\n",
      "\n",
      "See the caveats in the documentation: https://pandas.pydata.org/pandas-docs/stable/user_guide/indexing.html#returning-a-view-versus-a-copy\n",
      "  new_df['first_utm_source_c'] = \"others\"\n"
     ]
    },
    {
     "data": {
      "text/plain": [
       "'Writing to DataBase categorical_variables_mapped Done Check Logs.'"
      ]
     },
     "execution_count": 11,
     "metadata": {},
     "output_type": "execute_result"
    }
   ],
   "source": [
    "map_categorical_vars(DB_PATH, DB_FILE_NAME,list_platform,list_medium,list_source)"
   ]
  },
  {
   "cell_type": "code",
   "execution_count": 12,
   "id": "56e4da91-b68c-44d4-aaf9-64d8a60c50a7",
   "metadata": {},
   "outputs": [],
   "source": [
    "def raw_data_schema_check(data_directory,raw_data_schema):\n",
    "    '''\n",
    "    This function check if all the columns mentioned in schema.py are present in\n",
    "    leadscoring.csv file or not.\n",
    "\n",
    "   \n",
    "    INPUTS\n",
    "        db_file_name : Name of the database file\n",
    "        db_path : path where the db file should be   \n",
    "        raw_data_schema : schema of raw data in the form oa list/tuple as present \n",
    "                          in 'schema.py'\n",
    "\n",
    "    OUTPUT\n",
    "        If the schema is in line then prints \n",
    "        'Raw datas schema is in line with the schema present in schema.py' \n",
    "        else prints\n",
    "        'Raw datas schema is NOT in line with the schema present in schema.py'\n",
    "\n",
    "    \n",
    "    SAMPLE USAGE\n",
    "        raw_data_schema_check\n",
    "    '''\n",
    "    leadscoring = load_data( [f\"{data_directory}leadscoring.csv\",])[0]\n",
    "    source_cols = leadscoring.columns.to_list()\n",
    "    \n",
    "    if collections.Counter(source_cols) == collections.Counter(raw_data_schema):\n",
    "        print('Raw datas schema is in line with the schema present in schema.py')\n",
    "    else:\n",
    "        print('Raw datas schema is NOT in line with the schema present in schema.py')\n",
    "    \n",
    "\n"
   ]
  },
  {
   "cell_type": "code",
   "execution_count": 13,
   "id": "aa25471d-9f75-46e8-b3b4-c7b1a5ace876",
   "metadata": {},
   "outputs": [
    {
     "name": "stdout",
     "output_type": "stream",
     "text": [
      "Raw datas schema is NOT in line with the schema present in schema.py\n"
     ]
    }
   ],
   "source": [
    "raw_data_schema_check(DATA_DIRECTORY,model_input_schema)"
   ]
  },
  {
   "cell_type": "code",
   "execution_count": null,
   "id": "0096aaa4-afbf-4fdc-835b-9fd8ec7229d2",
   "metadata": {},
   "outputs": [],
   "source": []
  },
  {
   "cell_type": "code",
   "execution_count": 14,
   "id": "b97544f1-98f2-4608-95d0-f2c68d71a11d",
   "metadata": {},
   "outputs": [
    {
     "data": {
      "text/plain": [
       "'/home/Assignment/01_data_pipeline/scripts/'"
      ]
     },
     "execution_count": 14,
     "metadata": {},
     "output_type": "execute_result"
    }
   ],
   "source": [
    "INTERACTION_MAPPING"
   ]
  },
  {
   "cell_type": "code",
   "execution_count": null,
   "id": "e984e9ce-d473-4cee-a55c-95a5e027c74c",
   "metadata": {},
   "outputs": [],
   "source": []
  },
  {
   "cell_type": "code",
   "execution_count": 15,
   "id": "d8511f0f-f19d-4944-9269-9556b35d0b89",
   "metadata": {},
   "outputs": [],
   "source": [
    "def interactions_mapping(db_path,db_file_name,interaction_mapping_file,index_columns):\n",
    "    '''\n",
    "    This function maps the interaction columns into 4 unique interaction columns\n",
    "    These mappings are present in 'interaction_mapping.csv' file. \n",
    "\n",
    "\n",
    "    INPUTS\n",
    "        db_file_name : Name of the database file\n",
    "        db_path : path where the db file should be\n",
    "        interaction_mapping_file : path to the csv file containing interaction's\n",
    "                                   mappings\n",
    "        index_columns : list of columns to be used as index while pivoting and\n",
    "                        unpivoting\n",
    "        NOTE : Since while inference we will not have 'app_complete_flag' which is\n",
    "        our label, we will have to exculde it from our index_columns. It is recommended \n",
    "        that you use an if loop and check if 'app_complete_flag' is present in \n",
    "        'categorical_variables_mapped' table and if it is present pass a list with \n",
    "        'app_complete_flag' in it as index_column else pass a list without 'app_complete_flag'\n",
    "        in it.\n",
    "\n",
    "    \n",
    "    OUTPUT\n",
    "        Saves the processed dataframe in the db in a table named \n",
    "        'interactions_mapped'. If the table with the same name already exsists then \n",
    "        the function replaces it.\n",
    "        \n",
    "        It also drops all the features that are not requried for training model and \n",
    "        writes it in a table named 'model_input'\n",
    "\n",
    "    \n",
    "    SAMPLE USAGE\n",
    "        interactions_mapping()\n",
    "    '''\n",
    "    print(\"interaction_mapping_file>>>>>>>>>>>>>>\",interaction_mapping_file)\n",
    "    cnx = sqlite3.connect(db_path+db_file_name)\n",
    "    df = pd.read_sql('select * from categorical_variables_mapped', cnx)\n",
    "    \n",
    "    df.drop(columns=['index'],axis=1,inplace=True,errors='ignore')\n",
    "    df = df.drop_duplicates()\n",
    "    \n",
    "    # read the interaction mapping file\n",
    "    df_event_mapping = load_data( [f\"{interaction_mapping_file}interaction_mapping.csv\",])[0]\n",
    "    \n",
    "    # unpivot the interaction columns and put the values in rows\n",
    "    df_unpivot = pd.melt(df, id_vars=index_columns, var_name='interaction_type', value_name='interaction_value')\n",
    "    \n",
    "    # handle the nulls in the interaction value column\n",
    "    df_unpivot['interaction_value'] = df_unpivot['interaction_value'].fillna(0)\n",
    "    \n",
    "    # map interaction type column with the mapping file to get interaction mapping\n",
    "    df = pd.merge(df_unpivot, df_event_mapping, on='interaction_type', how='left')\n",
    "    \n",
    "    #dropping the interaction type column as it is not needed\n",
    "    df = df.drop(['interaction_type'], axis=1)\n",
    "    \n",
    "    # pivoting the interaction mapping column values to individual columns in the dataset\n",
    "    df_pivot = df.pivot_table(values='interaction_value', index=index_columns, columns='interaction_mapping', aggfunc='sum')\n",
    "    df_pivot = df_pivot.reset_index()\n",
    "    \n",
    "    df_pivot.to_sql(name='interactions_mapped',con=cnx,if_exists='replace')\n",
    "    df_pivot.drop(columns=['index'],axis=1,inplace=True,errors='ignore')\n",
    "    cnx.close()\n",
    "    return \"Writing to DataBase- interactions_mapped Done . Check Logs.\""
   ]
  },
  {
   "cell_type": "code",
   "execution_count": 16,
   "id": "29882b16-c232-4da3-a310-6c51d87bea54",
   "metadata": {},
   "outputs": [
    {
     "name": "stdout",
     "output_type": "stream",
     "text": [
      "interaction_mapping_file>>>>>>>>>>>>>> /home/Assignment/01_data_pipeline/scripts/\n"
     ]
    },
    {
     "data": {
      "text/plain": [
       "'Writing to DataBase- interactions_mapped Done . Check Logs.'"
      ]
     },
     "execution_count": 16,
     "metadata": {},
     "output_type": "execute_result"
    }
   ],
   "source": [
    "interactions_mapping(DB_PATH, DB_FILE_NAME,INTERACTION_MAPPING,INDEX_COLUMNS)"
   ]
  },
  {
   "cell_type": "code",
   "execution_count": 17,
   "id": "35513db0-4668-459f-945e-83a12f81413a",
   "metadata": {},
   "outputs": [
    {
     "data": {
      "text/plain": [
       "'/home/Assignment/01_data_pipeline/scripts/'"
      ]
     },
     "execution_count": 17,
     "metadata": {},
     "output_type": "execute_result"
    }
   ],
   "source": [
    "INTERACTION_MAPPING"
   ]
  },
  {
   "cell_type": "code",
   "execution_count": 18,
   "id": "17cff012-27ee-482b-b277-babf39477d30",
   "metadata": {},
   "outputs": [],
   "source": [
    "def model_input_schema_check(db_path, db_file_name, model_input_schema):\n",
    "    '''\n",
    "    This function check if all the columns mentioned in model_input_schema in \n",
    "    schema.py are present in table named in 'model_input' in db file.\n",
    "\n",
    "   \n",
    "    INPUTS\n",
    "        db_file_name : Name of the database file\n",
    "        db_path : path where the db file should be   \n",
    "        raw_data_schema : schema of models input data in the form oa list/tuple\n",
    "                          present as in 'schema.py'\n",
    "\n",
    "    OUTPUT\n",
    "        If the schema is in line then prints \n",
    "        'Models input schema is in line with the schema present in schema.py'\n",
    "        else prints\n",
    "        'Models input schema is NOT in line with the schema present in schema.py'\n",
    "    \n",
    "    SAMPLE USAGE\n",
    "        raw_data_schema_check\n",
    "    '''\n",
    "    cnx = sqlite3.connect(db_path+db_file_name)\n",
    "    df = pd.read_sql('select * from interactions_mapped', cnx)\n",
    "    df.drop(columns=['index'], inplace=True, axis=1, errors='ignore')\n",
    "    source_columns = df.columns.to_list()\n",
    "    result =  all(elem in source_columns for elem in model_input_schema)\n",
    "    if result:\n",
    "        print('Models input schema is in line with the schema present in schema.py')\n",
    "    else:\n",
    "        print('Models input schema is NOT in line with the schema present in schema.py')    \n",
    "\n",
    "    "
   ]
  },
  {
   "cell_type": "code",
   "execution_count": 19,
   "id": "977b4899-c7ec-4107-949f-d5c6bf76b590",
   "metadata": {},
   "outputs": [
    {
     "name": "stdout",
     "output_type": "stream",
     "text": [
      "Models input schema is NOT in line with the schema present in schema.py\n"
     ]
    }
   ],
   "source": [
    "model_input_schema_check(DB_PATH, DB_FILE_NAME, model_input_schema)"
   ]
  },
  {
   "cell_type": "code",
   "execution_count": null,
   "id": "0aab00bb-3d06-43f5-8d0e-d109c4e419ec",
   "metadata": {},
   "outputs": [],
   "source": []
  }
 ],
 "metadata": {
  "kernelspec": {
   "display_name": "Python 3 (ipykernel)",
   "language": "python",
   "name": "python3"
  },
  "language_info": {
   "codemirror_mode": {
    "name": "ipython",
    "version": 3
   },
   "file_extension": ".py",
   "mimetype": "text/x-python",
   "name": "python",
   "nbconvert_exporter": "python",
   "pygments_lexer": "ipython3",
   "version": "3.8.12"
  }
 },
 "nbformat": 4,
 "nbformat_minor": 5
}
